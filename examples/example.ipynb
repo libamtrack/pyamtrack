{
 "cells": [
  {
   "cell_type": "code",
   "execution_count": 1,
   "metadata": {},
   "outputs": [],
   "source": [
    "import matplotlib.pyplot as plt\n",
    "import numpy as np\n",
    "import pyamtrack"
   ]
  },
  {
   "cell_type": "markdown",
   "metadata": {},
   "source": [
    "# single number calculations"
   ]
  },
  {
   "cell_type": "code",
   "execution_count": 2,
   "metadata": {},
   "outputs": [],
   "source": [
    "energy_MeV = 150"
   ]
  },
  {
   "cell_type": "code",
   "execution_count": 3,
   "metadata": {},
   "outputs": [
    {
     "data": {
      "text/plain": [
       "0.5080917028494696"
      ]
     },
     "execution_count": 3,
     "metadata": {},
     "output_type": "execute_result"
    }
   ],
   "source": [
    "pyamtrack.converters.beta_from_energy(energy_MeV)"
   ]
  },
  {
   "cell_type": "markdown",
   "metadata": {},
   "source": [
    "# lists and numpy arrays"
   ]
  },
  {
   "cell_type": "code",
   "execution_count": 4,
   "metadata": {},
   "outputs": [],
   "source": [
    "energy_MeV_to_plot = np.linspace(start=0, stop=300, num=100)\n",
    "beta_to_plot = pyamtrack.converters.beta_from_energy(energy_MeV_to_plot)"
   ]
  },
  {
   "cell_type": "code",
   "execution_count": 5,
   "metadata": {},
   "outputs": [
    {
     "data": {
      "image/png": "[encoded data removed]",
      "text/plain": [
       "<Figure size 640x480 with 1 Axes>"
      ]
     },
     "metadata": {},
     "output_type": "display_data"
    }
   ],
   "source": [
    "fig, ax = plt.subplots()\n",
    "ax.plot(energy_MeV_to_plot, beta_to_plot)\n",
    "ax.set_xlabel(\"Energy (MeV)\")\n",
    "ax.set_ylabel(\"Beta\")\n",
    "ax.set_title(\"Beta from Energy\")\n",
    "ax.grid()"
   ]
  },
  {
   "cell_type": "code",
   "execution_count": 6,
   "metadata": {},
   "outputs": [
    {
     "data": {
      "text/plain": [
       "[0.0, 0.05668218307450857, 0.34258931676084925, 0.5978150064324464]"
      ]
     },
     "execution_count": 6,
     "metadata": {},
     "output_type": "execute_result"
    }
   ],
   "source": [
    "# lets put couple of integers and floats in the list\n",
    "energies = [0, 1.5, 60, 230.5]\n",
    "pyamtrack.converters.beta_from_energy(energies)"
   ]
  },
  {
   "cell_type": "markdown",
   "metadata": {},
   "source": [
    "# Cartesian product"
   ]
  },
  {
   "cell_type": "code",
   "execution_count": 7,
   "metadata": {},
   "outputs": [
    {
     "data": {
      "text/plain": [
       "(np.float64(0.000522691356388691), 0.000522691356388691)"
      ]
     },
     "execution_count": 7,
     "metadata": {},
     "output_type": "execute_result"
    }
   ],
   "source": [
    "import pyamtrack\n",
    "import numpy as np\n",
    "\n",
    "args = (\n",
    "    np.array([100, 100, 200, 100]),\n",
    "    np.array([1, 2, 3, 4]),\n",
    "    np.array([2, 3]),\n",
    ")\n",
    "\n",
    "res = pyamtrack.stopping.electron_range(\n",
    "    *args,\n",
    "    cartesian_product=True,\n",
    ")\n",
    "\n",
    "res[0, 0, 1], pyamtrack.stopping.electron_range(100, 1, 3)"
   ]
  },
  {
   "cell_type": "code",
   "execution_count": 8,
   "metadata": {},
   "outputs": [
    {
     "data": {
      "text/plain": [
       "(2, 2, 4, 2)"
      ]
     },
     "execution_count": 8,
     "metadata": {},
     "output_type": "execute_result"
    }
   ],
   "source": [
    "res = pyamtrack.stopping.electron_range(\n",
    "    np.array([100, 200, 300, 400]).reshape(2, 2),\n",
    "    np.array([1, 2, 3, 4]),\n",
    "    np.array([2, 3]),\n",
    "    cartesian_product=True,\n",
    ")\n",
    "\n",
    "res.shape"
   ]
  },
  {
   "cell_type": "code",
   "execution_count": 9,
   "metadata": {},
   "outputs": [
    {
     "data": {
      "text/plain": [
       "(np.float64(0.00013166029128178612), 0.00013166029128178612)"
      ]
     },
     "execution_count": 9,
     "metadata": {},
     "output_type": "execute_result"
    }
   ],
   "source": [
    "res[0, 0, 1, 1], pyamtrack.stopping.electron_range(100, 2, 3)"
   ]
  },
  {
   "cell_type": "code",
   "execution_count": 10,
   "metadata": {},
   "outputs": [
    {
     "data": {
      "text/plain": [
       "(3, 2)"
      ]
     },
     "execution_count": 10,
     "metadata": {},
     "output_type": "execute_result"
    }
   ],
   "source": [
    "res = pyamtrack.stopping.electron_range(\n",
    "    [150., 200., 300.],\n",
    "    1,\n",
    "    [pyamtrack.stopping.models.tabata, pyamtrack.stopping.models.edmund],\n",
    "    cartesian_product=True,\n",
    ")\n",
    "res.shape"
   ]
  },
  {
   "cell_type": "code",
   "execution_count": 11,
   "metadata": {},
   "outputs": [
    {
     "name": "stdout",
     "output_type": "stream",
     "text": [
      "(1, 5, 2)\n",
      "(5, 2)\n"
     ]
    }
   ],
   "source": [
    "args = [\n",
    "        np.random.uniform(900, 1100, 1),\n",
    "        np.random.randint(2, 8, 5),\n",
    "        np.random.randint(2, 8, 2),\n",
    "    ]\n",
    "\n",
    "output = pyamtrack.stopping.electron_range(\n",
    "    *args,\n",
    "    cartesian_product=True,\n",
    ")\n",
    "\n",
    "print(output.shape)\n",
    "\n",
    "for i in range(3):\n",
    "    if len(args[i]) <= 1:\n",
    "        args[i] = float(args[i][0].item())\n",
    "\n",
    "output = pyamtrack.stopping.electron_range(\n",
    "    *args,\n",
    "    cartesian_product=True,\n",
    ")\n",
    "\n",
    "print(output.shape)"
   ]
  },
  {
   "cell_type": "code",
   "execution_count": 12,
   "metadata": {},
   "outputs": [
    {
     "ename": "TypeError",
     "evalue": "NDArray must be C-contiguous. Use numpy.ascontiguousarray(your_array) before passing it.",
     "output_type": "error",
     "traceback": [
      "\u001b[31m---------------------------------------------------------------------------\u001b[39m",
      "\u001b[31mTypeError\u001b[39m                                 Traceback (most recent call last)",
      "\u001b[36mCell\u001b[39m\u001b[36m \u001b[39m\u001b[32mIn[12]\u001b[39m\u001b[32m, line 1\u001b[39m\n\u001b[32m----> \u001b[39m\u001b[32m1\u001b[39m \u001b[43mpyamtrack\u001b[49m\u001b[43m.\u001b[49m\u001b[43mstopping\u001b[49m\u001b[43m.\u001b[49m\u001b[43melectron_range\u001b[49m\u001b[43m(\u001b[49m\n\u001b[32m      2\u001b[39m \u001b[43m    \u001b[49m\u001b[43mnp\u001b[49m\u001b[43m.\u001b[49m\u001b[43marray\u001b[49m\u001b[43m(\u001b[49m\u001b[43m[\u001b[49m\u001b[32;43m150.\u001b[39;49m\u001b[43m,\u001b[49m\u001b[43m \u001b[49m\u001b[32;43m200.\u001b[39;49m\u001b[43m,\u001b[49m\u001b[43m \u001b[49m\u001b[32;43m300.\u001b[39;49m\u001b[43m]\u001b[49m\u001b[43m)\u001b[49m\u001b[43m[\u001b[49m\u001b[43m:\u001b[49m\u001b[43m:\u001b[49m\u001b[32;43m2\u001b[39;49m\u001b[43m]\u001b[49m\u001b[43m,\u001b[49m\n\u001b[32m      3\u001b[39m \u001b[43m    \u001b[49m\u001b[32;43m1\u001b[39;49m\u001b[43m,\u001b[49m\n\u001b[32m      4\u001b[39m \u001b[43m    \u001b[49m\u001b[43m[\u001b[49m\u001b[43mpyamtrack\u001b[49m\u001b[43m.\u001b[49m\u001b[43mstopping\u001b[49m\u001b[43m.\u001b[49m\u001b[43mmodels\u001b[49m\u001b[43m.\u001b[49m\u001b[43mtabata\u001b[49m\u001b[43m,\u001b[49m\u001b[43m \u001b[49m\u001b[43mpyamtrack\u001b[49m\u001b[43m.\u001b[49m\u001b[43mstopping\u001b[49m\u001b[43m.\u001b[49m\u001b[43mmodels\u001b[49m\u001b[43m.\u001b[49m\u001b[43medmund\u001b[49m\u001b[43m]\u001b[49m\u001b[43m,\u001b[49m\n\u001b[32m      5\u001b[39m \u001b[43m    \u001b[49m\u001b[43mcartesian_product\u001b[49m\u001b[43m=\u001b[49m\u001b[38;5;28;43;01mTrue\u001b[39;49;00m\u001b[43m,\u001b[49m\n\u001b[32m      6\u001b[39m \u001b[43m)\u001b[49m\n",
      "\u001b[31mTypeError\u001b[39m: NDArray must be C-contiguous. Use numpy.ascontiguousarray(your_array) before passing it."
     ]
    }
   ],
   "source": [
    "pyamtrack.stopping.electron_range(\n",
    "    np.array([150., 200., 300.])[::2],\n",
    "    1,\n",
    "    [pyamtrack.stopping.models.tabata, pyamtrack.stopping.models.edmund],\n",
    "    cartesian_product=True,\n",
    ")"
   ]
  },
  {
   "cell_type": "code",
   "execution_count": 65,
   "metadata": {},
   "outputs": [
    {
     "name": "stdout",
     "output_type": "stream",
     "text": [
      "(2, 2)\n"
     ]
    },
    {
     "data": {
      "text/plain": [
       "(np.float64(0.003919871246818598), 0.003919871246818598)"
      ]
     },
     "execution_count": 65,
     "metadata": {},
     "output_type": "execute_result"
    }
   ],
   "source": [
    "res = pyamtrack.stopping.electron_range(\n",
    "    np.ascontiguousarray(np.array([150., 200., 300., 400.])[::2]),\n",
    "    1,\n",
    "    [pyamtrack.stopping.models.tabata, pyamtrack.stopping.models.edmund],\n",
    "    cartesian_product=True,\n",
    ")\n",
    "\n",
    "print(res.shape)\n",
    "\n",
    "res[1, 1], pyamtrack.stopping.electron_range(300, 1, pyamtrack.stopping.models.edmund)"
   ]
  }
 ],
 "metadata": {
  "kernelspec": {
   "display_name": "venv (3.12.11)",
   "language": "python",
   "name": "python3"
  },
  "language_info": {
   "codemirror_mode": {
    "name": "ipython",
    "version": 3
   },
   "file_extension": ".py",
   "mimetype": "text/x-python",
   "name": "python",
   "nbconvert_exporter": "python",
   "pygments_lexer": "ipython3",
   "version": "3.12.11"
  }
 },
 "nbformat": 4,
 "nbformat_minor": 2
}
